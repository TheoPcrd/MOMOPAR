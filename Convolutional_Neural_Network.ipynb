{
 "cells": [
  {
   "cell_type": "code",
   "execution_count": 4,
   "metadata": {},
   "outputs": [],
   "source": [
    "#Load packages\n",
    "from netCDF4 import Dataset\n",
    "import numpy as np\n",
    "import matplotlib.colors as colors\n",
    "import matplotlib.pyplot as plt\n",
    "from matplotlib.ticker import (MultipleLocator, AutoMinorLocator)\n",
    "import sys\n",
    "import netCDF4 as nc4\n",
    "\n",
    "sys.path.append(\"/home2/datahome/tpicard/python/Python_Modules_p3_pyticles/\")\n",
    "\n",
    "from Modules import *\n",
    "from Modules_gula import *\n",
    "import torch\n",
    "from torch.utils.data import DataLoader, Dataset\n"
   ]
  },
  {
   "cell_type": "code",
   "execution_count": 5,
   "metadata": {},
   "outputs": [],
   "source": [
    "# Read the data for a given period\n",
    "\n",
    "def read_data(dt):\n",
    "    datetime=dt*101\n",
    "    nc = nc4.Dataset('/home2/datawork/tpicard/Pyticles/CNN_DATA/trainning_database_{0:06}.nc'.format(datetime),'r')\n",
    "    inputs = np.nan_to_num(np.asfortranarray(nc.variables['inputs']))\n",
    "    inputs= np.transpose(inputs, axes=[0,3,1,2])\n",
    "    outputs = np.nan_to_num(np.asfortranarray(nc.variables['outputs'])*100) #Pour avoir une somme = 1\n",
    "    outputs= np.transpose(outputs, axes=[0,3,1,2])\n",
    "    nc.close()\n",
    "    return(inputs,outputs)\n",
    "\n",
    "# Return a set of trainning and test data\n",
    "\n",
    "def train_test_data():\n",
    "    dt_start = 10\n",
    "    dt_end = 15\n",
    "    \n",
    "    pdf_train = np.zeros((90*(dt_end-dt_start),1,80,80))\n",
    "    pdf_test = np.zeros((18*(dt_end-dt_start),1,80,80))\n",
    "    image_train = np.zeros((90*(dt_end-dt_start),52,400,400))\n",
    "    image_test = np.zeros((18*(dt_end-dt_start),52,400,400))\n",
    "    i=0\n",
    "    for dt in range(dt_start,dt_end,1):\n",
    "        inputs,outputs = read_data(dt)\n",
    "        image_train[i*90:(i+1)*90,:,:,:] = inputs[:90,:,:,:]\n",
    "        pdf_train[i*90:(i+1)*90,:,:,:] = outputs[:90,:,:,:]\n",
    "\n",
    "        image_test[i*18:(i+1)*18,:,:,:] = inputs[90:,:,:,:]\n",
    "        pdf_test[i*18:(i+1)*18,:,:,:] = outputs[90:,:,:,:]\n",
    "        i =i+1\n",
    "        \n",
    "    return(image_train,pdf_train,image_test,pdf_test)\n"
   ]
  },
  {
   "cell_type": "code",
   "execution_count": 6,
   "metadata": {},
   "outputs": [],
   "source": [
    "class Pdf_Image_DataSet(Dataset):\n",
    "    def __init__(self,images, pdf,transform=None):\n",
    "        \n",
    "        self.pdf = pdf\n",
    "        self.images = images\n",
    "        self.transform = transform\n",
    "\n",
    "    def __len__(self):\n",
    "        return self.pdf.shape[0]\n",
    "\n",
    "    def __getitem__(self, idx):\n",
    "        # select coordinates\n",
    "        pdf_sample = self.pdf[idx,:,:,:]\n",
    "        image_sample = self.images[idx,:,:,:]\n",
    "        \n",
    "        if self.transform:\n",
    "            pdf_sample = self.transform(pdf_sample)\n",
    "            image_sample = self.transform(image_sample)\n",
    "            \n",
    "        return image_sample, pdf_sample\n",
    "\n",
    "class ToTensor(object):\n",
    "    \"\"\"Convert ndarrays in sample to Tensors.\"\"\"\n",
    "    def __call__(self, sample):\n",
    "        return torch.FloatTensor(sample)"
   ]
  },
  {
   "cell_type": "code",
   "execution_count": 7,
   "metadata": {},
   "outputs": [
    {
     "name": "stdout",
     "output_type": "stream",
     "text": [
      "cpu\n"
     ]
    }
   ],
   "source": [
    "from torch import nn\n",
    "from torch import optim\n",
    "import progressbar\n",
    "\n",
    "device = torch.device(\"cuda\" if torch.cuda.is_available() else \"cpu\")\n",
    "print(device)"
   ]
  },
  {
   "cell_type": "code",
   "execution_count": 8,
   "metadata": {},
   "outputs": [],
   "source": [
    "# hyperparameters\n",
    "batch_size = 30\n",
    "\n",
    "(train_images,train_pdf,test_images,test_pdf) = train_test_data()\n",
    "\n",
    "## reduce size dataset\n",
    "train_set = Pdf_Image_DataSet(train_images,train_pdf,transform= ToTensor())\n",
    "#train_set.device()\n",
    "train_loader = DataLoader(train_set, batch_size=batch_size, num_workers = 0, shuffle = True, drop_last=False)\n",
    "\n",
    "test_set = Pdf_Image_DataSet(test_images,test_pdf,transform= ToTensor())\n",
    "#test_set.device()\n",
    "test_loader = DataLoader(test_set, batch_size=batch_size, num_workers = 0, shuffle = True, drop_last=False)"
   ]
  },
  {
   "cell_type": "code",
   "execution_count": 9,
   "metadata": {},
   "outputs": [
    {
     "name": "stdout",
     "output_type": "stream",
     "text": [
      "Shape of X [N, C, H, W]:  torch.Size([30, 52, 400, 400])\n",
      "Shape of y:  torch.Size([30, 1, 80, 80]) torch.float32\n"
     ]
    }
   ],
   "source": [
    "# Check the shape of inputs and outputs\n",
    "\n",
    "for X, y in test_loader:\n",
    "    print(\"Shape of X [N, C, H, W]: \", X.shape)\n",
    "    print(\"Shape of y: \", y.shape, y.dtype)\n",
    "    break"
   ]
  },
  {
   "cell_type": "code",
   "execution_count": 10,
   "metadata": {},
   "outputs": [],
   "source": [
    "from torch import nn\n",
    "from torch import optim\n",
    "import progressbar\n",
    "\n",
    "device = torch.device(\"cuda\" if torch.cuda.is_available() else \"cpu\")"
   ]
  },
  {
   "cell_type": "code",
   "execution_count": 21,
   "metadata": {},
   "outputs": [],
   "source": [
    "# Achitecture of the model \n",
    "\n",
    "class CNN(nn.Module):\n",
    "    def __init__(self):\n",
    "        super().__init__()\n",
    "\n",
    "        self.cnn = nn.Sequential(    \n",
    "            nn.Conv2d(52, 26, kernel_size = 1, padding = 0),\n",
    "            nn.ReLU(True),\n",
    "\n",
    "            nn.AvgPool2d(5),\n",
    "\n",
    "            nn.Conv2d(26, 1, kernel_size = 1, padding = 0),\n",
    "            \n",
    "            nn.Flatten(start_dim=1, end_dim=- 1), # image 80x80 to a vector\n",
    "            nn.Softmax(dim=1), \n",
    "         )\n",
    "    def forward(self, z):    \n",
    "        out = self.cnn(z)\n",
    "        #print(out.shape)\n",
    "        out = out.view(out.shape[0],1,80,80)\n",
    "        return out"
   ]
  },
  {
   "cell_type": "code",
   "execution_count": 22,
   "metadata": {},
   "outputs": [],
   "source": [
    "def weights_init(m):\n",
    "    \"\"\"\n",
    "    This function initializes the model weights randomly from a \n",
    "    Normal distribution. This follows the specification from the DCGAN paper.\n",
    "    https://arxiv.org/pdf/1511.06434.pdf\n",
    "    Source: https://pytorch.org/tutorials/beginner/dcgan_faces_tutorial.html\n",
    "    \"\"\"\n",
    "    classname = m.__class__.__name__\n",
    "    if classname.find('Conv') != -1:\n",
    "        nn.init.normal_(m.weight.data, 0.0, 0.02)\n",
    "    #elif classname.find('AvgPool2d') != -1:\n",
    "    #    nn.init.normal_(m.weight.data, 1.0, 0.02)\n",
    "    #    nn.init.constant_(m.bias.data, 0)"
   ]
  },
  {
   "cell_type": "code",
   "execution_count": 23,
   "metadata": {},
   "outputs": [],
   "source": [
    "# create network\n",
    "model = CNN().to(device)\n",
    "\n",
    "# weight initialization\n",
    "model = model.apply(weights_init)\n",
    "\n",
    "lambda_loss=10000\n",
    "# define loss and optimizers\n",
    "loss_fn = nn.MSELoss()\n",
    "lr = 0.02\n",
    "optimizer = optim.Adam(model.parameters(),lr= lr, betas=(0.5, 0.999))"
   ]
  },
  {
   "cell_type": "code",
   "execution_count": 24,
   "metadata": {},
   "outputs": [],
   "source": [
    "def train_loop(dataloader, model, loss_fn, optimizer):\n",
    "    size = len(dataloader.dataset)\n",
    "    train_loss=0\n",
    "    loss_coeff = 1e6\n",
    "    for batch, (X, y) in enumerate(dataloader):\n",
    "        \n",
    "        # TRAIN MODEL\n",
    "        model.zero_grad()\n",
    "        pred = model(X)\n",
    "        loss = loss_coeff*loss_fn(pred, y)\n",
    "        # Backpropagation\n",
    "        optimizer.zero_grad()\n",
    "        loss.backward()\n",
    "        optimizer.step()\n",
    "        #print(loss)\n",
    "        \n",
    "    if epoch%10 == 0:\n",
    "        print('\\nEpoch [{}/{}] -----------------------------------------------------------------------------'\n",
    "            .format(epoch+1, nb_epoch))\n",
    "\n",
    "    if batch % 100 == 0:\n",
    "        loss, current = loss.item(), batch * len(X)\n",
    "        print(f\"loss: {loss:>7f}  [{current:>5d}/{size:>5d}]\")\n",
    "        \n",
    "    return(pred,loss)\n",
    "\n",
    "def test_loop(dataloader, model, loss_fn):\n",
    "    size = len(dataloader.dataset)\n",
    "    num_batches = len(dataloader)\n",
    "    test_loss = 0\n",
    "    loss_coeff = 1e6\n",
    "    \n",
    "    with torch.no_grad():\n",
    "        for X, y in dataloader:\n",
    "            pred = model(X)\n",
    "            #print(loss_fn(pred, y))\n",
    "            test_loss += loss_coeff*loss_fn(pred, y).item()\n",
    "            #print(test_loss)\n",
    "    \n",
    "    #test_loss /= num_batches\n",
    "    print(f\"Test Error: Avg loss: {test_loss:>8f} \\n\") \n",
    "    return(pred,test_loss)"
   ]
  },
  {
   "cell_type": "code",
   "execution_count": 25,
   "metadata": {},
   "outputs": [
    {
     "name": "stderr",
     "output_type": "stream",
     "text": [
      " 10% (1 of 10) |##                       | Elapsed Time: 0:01:21 ETA:   0:12:14"
     ]
    },
    {
     "name": "stdout",
     "output_type": "stream",
     "text": [
      "Test Error: Avg loss: 18.795037 \n",
      "\n"
     ]
    },
    {
     "name": "stderr",
     "output_type": "stream",
     "text": [
      "\r",
      "                                                                               \r",
      "\r",
      " 20% (2 of 10) |#####                    | Elapsed Time: 0:02:43 ETA:   0:10:53"
     ]
    },
    {
     "name": "stdout",
     "output_type": "stream",
     "text": [
      "Test Error: Avg loss: 18.803838 \n",
      "\n"
     ]
    },
    {
     "name": "stderr",
     "output_type": "stream",
     "text": [
      "\r",
      "                                                                               \r",
      "\r",
      " 30% (3 of 10) |#######                  | Elapsed Time: 0:04:05 ETA:   0:09:33"
     ]
    },
    {
     "name": "stdout",
     "output_type": "stream",
     "text": [
      "Test Error: Avg loss: 18.801766 \n",
      "\n"
     ]
    },
    {
     "name": "stderr",
     "output_type": "stream",
     "text": [
      "\r",
      "                                                                               \r",
      "\r",
      " 40% (4 of 10) |##########               | Elapsed Time: 0:05:26 ETA:   0:08:09"
     ]
    },
    {
     "name": "stdout",
     "output_type": "stream",
     "text": [
      "Test Error: Avg loss: 18.806022 \n",
      "\n"
     ]
    },
    {
     "name": "stderr",
     "output_type": "stream",
     "text": [
      "\r",
      "                                                                               \r",
      "\r",
      " 50% (5 of 10) |############             | Elapsed Time: 0:06:48 ETA:   0:06:49"
     ]
    },
    {
     "name": "stdout",
     "output_type": "stream",
     "text": [
      "Test Error: Avg loss: 18.802287 \n",
      "\n"
     ]
    },
    {
     "name": "stderr",
     "output_type": "stream",
     "text": [
      "\r",
      "                                                                               \r",
      "\r",
      " 60% (6 of 10) |###############          | Elapsed Time: 0:08:10 ETA:   0:05:26"
     ]
    },
    {
     "name": "stdout",
     "output_type": "stream",
     "text": [
      "Test Error: Avg loss: 18.810390 \n",
      "\n"
     ]
    },
    {
     "name": "stderr",
     "output_type": "stream",
     "text": [
      "\r",
      "                                                                               \r",
      "\r",
      " 70% (7 of 10) |#################        | Elapsed Time: 0:09:32 ETA:   0:04:05"
     ]
    },
    {
     "name": "stdout",
     "output_type": "stream",
     "text": [
      "Test Error: Avg loss: 18.802077 \n",
      "\n"
     ]
    },
    {
     "name": "stderr",
     "output_type": "stream",
     "text": [
      "\r",
      "                                                                               \r",
      "\r",
      " 80% (8 of 10) |####################     | Elapsed Time: 0:10:53 ETA:   0:02:42"
     ]
    },
    {
     "name": "stdout",
     "output_type": "stream",
     "text": [
      "Test Error: Avg loss: 18.799848 \n",
      "\n"
     ]
    },
    {
     "name": "stderr",
     "output_type": "stream",
     "text": [
      "\r",
      "                                                                               \r",
      "\r",
      " 90% (9 of 10) |######################   | Elapsed Time: 0:12:14 ETA:   0:01:21"
     ]
    },
    {
     "name": "stdout",
     "output_type": "stream",
     "text": [
      "Test Error: Avg loss: 18.801681 \n",
      "\n",
      "\n",
      "Epoch [11/10] -----------------------------------------------------------------------------\n"
     ]
    },
    {
     "name": "stderr",
     "output_type": "stream",
     "text": [
      "100% (10 of 10) |########################| Elapsed Time: 0:13:36 Time:  0:13:36\n"
     ]
    },
    {
     "name": "stdout",
     "output_type": "stream",
     "text": [
      "Test Error: Avg loss: 18.800381 \n",
      "\n"
     ]
    },
    {
     "data": {
      "text/plain": [
       "[<matplotlib.lines.Line2D at 0x2ab3bcb5f610>]"
      ]
     },
     "execution_count": 25,
     "metadata": {},
     "output_type": "execute_result"
    },
    {
     "data": {
      "image/png": "[encoded data removed]",
      "text/plain": [
       "<Figure size 720x720 with 1 Axes>"
      ]
     },
     "metadata": {
      "needs_background": "light"
     },
     "output_type": "display_data"
    }
   ],
   "source": [
    "# Train the model\n",
    "nb_epoch = 10\n",
    "epoch = 0\n",
    "loss_train_list=[]\n",
    "loss_test_list=[]\n",
    "\n",
    "for i in progressbar.progressbar(range(nb_epoch)):\n",
    "    epoch +=1\n",
    "    (pred,loss) = train_loop(train_loader, model, loss_fn, optimizer)\n",
    "    loss_train_list.append(loss)\n",
    "    (pred,loss)= test_loop(test_loader, model, loss_fn)   \n",
    "    loss_test_list.append(loss)\n",
    "    \n",
    "plt.figure(figsize =(10,10))\n",
    "plt.plot(loss_train_list)\n",
    "plt.plot(loss_test_list)\n",
    "plt.grid()"
   ]
  },
  {
   "cell_type": "code",
   "execution_count": 26,
   "metadata": {},
   "outputs": [
    {
     "data": {
      "text/plain": [
       "tensor([[2.0155e-04, 1.9947e-04, 2.1248e-04,  ..., 2.0952e-05, 1.8668e-05,\n",
       "         1.8148e-05],\n",
       "        [2.2690e-04, 2.2953e-04, 2.4034e-04,  ..., 2.3155e-05, 1.9408e-05,\n",
       "         1.8724e-05],\n",
       "        [2.2910e-04, 2.4555e-04, 2.5433e-04,  ..., 2.5114e-05, 2.1576e-05,\n",
       "         2.0817e-05],\n",
       "        ...,\n",
       "        [2.6131e-04, 2.8002e-04, 3.2289e-04,  ..., 3.3681e-06, 3.3622e-06,\n",
       "         3.3583e-06],\n",
       "        [2.8642e-04, 2.9428e-04, 2.9141e-04,  ..., 3.3684e-06, 3.3640e-06,\n",
       "         3.3626e-06],\n",
       "        [2.4749e-04, 2.3652e-04, 2.4018e-04,  ..., 3.3718e-06, 3.3686e-06,\n",
       "         3.3683e-06]])"
      ]
     },
     "execution_count": 26,
     "metadata": {},
     "output_type": "execute_result"
    }
   ],
   "source": [
    "pred[2,0,:,:]"
   ]
  },
  {
   "cell_type": "code",
   "execution_count": 26,
   "metadata": {},
   "outputs": [
    {
     "data": {
      "text/plain": [
       "tensor(1.0000)"
      ]
     },
     "execution_count": 26,
     "metadata": {},
     "output_type": "execute_result"
    }
   ],
   "source": [
    "torch.sum(pred[0,:,:])"
   ]
  },
  {
   "cell_type": "markdown",
   "metadata": {},
   "source": [
    "# Visual test on the last prediction"
   ]
  },
  {
   "cell_type": "code",
   "execution_count": 32,
   "metadata": {},
   "outputs": [
    {
     "name": "stderr",
     "output_type": "stream",
     "text": [
      "<ipython-input-32-0b7307d3107f>:17: MatplotlibDeprecationWarning: shading='flat' when X and Y have the same dimensions as C is deprecated since 3.3.  Either specify the corners of the quadrilaterals with X and Y, or pass shading='auto', 'nearest' or 'gouraud', or set rcParams['pcolor.shading'].  This will become an error two minor releases later.\n",
      "  plt.pcolormesh(x,y,pred[5,0,:,:].detach().numpy())\n"
     ]
    },
    {
     "data": {
      "text/plain": [
       "<matplotlib.colorbar.Colorbar at 0x2ab3bd0035e0>"
      ]
     },
     "execution_count": 32,
     "metadata": {},
     "output_type": "execute_result"
    },
    {
     "data": {
      "image/png": "[encoded data removed]",
      "text/plain": [
       "<Figure size 720x720 with 2 Axes>"
      ]
     },
     "metadata": {
      "needs_background": "light"
     },
     "output_type": "display_data"
    }
   ],
   "source": [
    "#xband, yband = np.linspace(-800,800,160), np.linspace(-800,800,160)\n",
    "xband, yband = np.linspace(-400,400,81), np.linspace(-400,400,81)\n",
    "\n",
    "fig = plt.figure(figsize=(10,10))\n",
    "\n",
    "cmap = 'Spectral_r'\n",
    "levels=np.logspace(-5, -4, 10)\n",
    "norm= colors.LogNorm(vmin=1e-5, vmax=1e-4)\n",
    "\n",
    "ax = ax = fig.add_subplot(1,1,1)\n",
    "#cb.set_ticks([1e-6, 1e-5, 1e-4])\n",
    "#cb.ax.tick_params(labelsize='large')\n",
    "ax.set_xlim([-400,400])\n",
    "ax.set_ylim([-400,400])\n",
    "x = np.linspace(-400,400,80)\n",
    "y = np.linspace(-400,400,80)\n",
    "plt.pcolormesh(x,y,pred[5,0,:,:].detach().numpy())\n",
    "plt.axvline(x=0,color='black',linestyle='--',linewidth=0.5)\n",
    "plt.axhline(y=0,color='black',linestyle='--',linewidth=0.5)\n",
    "plt.colorbar()\n",
    "#ctf = ax.contourf(0.5*(xband[:-1]+xband[1:]), 0.5*(yband[:-1]+yband[1:]), pred[0,0,:,:].T,  levels, norm=norm, cmap=cmap, extend='both',alpha=0.2)\n"
   ]
  },
  {
   "cell_type": "code",
   "execution_count": null,
   "metadata": {},
   "outputs": [],
   "source": []
  }
 ],
 "metadata": {
  "kernelspec": {
   "display_name": "croco",
   "language": "python",
   "name": "croco"
  },
  "language_info": {
   "codemirror_mode": {
    "name": "ipython",
    "version": 3
   },
   "file_extension": ".py",
   "mimetype": "text/x-python",
   "name": "python",
   "nbconvert_exporter": "python",
   "pygments_lexer": "ipython3",
   "version": "3.8.8"
  }
 },
 "nbformat": 4,
 "nbformat_minor": 4
}
