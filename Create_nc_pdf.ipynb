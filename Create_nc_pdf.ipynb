{
 "cells": [
  {
   "cell_type": "code",
   "execution_count": 1,
   "metadata": {},
   "outputs": [],
   "source": [
    "#From the pyticles outputs (64 nc files corresponding to 101 days of particles released)\n",
    "#We create 64 nc files that containt all the pdf for corresponding period"
   ]
  },
  {
   "cell_type": "code",
   "execution_count": 4,
   "metadata": {},
   "outputs": [],
   "source": [
    "#Load packages\n",
    "\n",
    "from netCDF4 import Dataset\n",
    "import numpy as np\n",
    "import matplotlib.colors as colors\n",
    "import matplotlib.pyplot as plt\n",
    "from matplotlib.ticker import (MultipleLocator, AutoMinorLocator)\n",
    "import sys\n",
    "import netCDF4 as nc4\n",
    "\n",
    "sys.path.append(\"/home2/datahome/tpicard/python/Python_Modules_p3_pyticles/\")\n",
    "\n",
    "from Modules import *\n",
    "from Modules_gula import *"
   ]
  },
  {
   "cell_type": "code",
   "execution_count": 5,
   "metadata": {},
   "outputs": [],
   "source": [
    "# Function that take all the particules positions px and py \n",
    "# (pxcenter,pycenter) is the center of a sub-patch that containt 36 particles \n",
    "# index_start is generally 0, 20 or 40 and correspond to the number of time step after the starting period of simu\n",
    "# Return a list of index that correspond to the particles located inside the sub-patch\n",
    "\n",
    "def spatial_filter(px,py,pxcenter,pycenter,index_start):\n",
    "    \n",
    "    #On garde que le premier pas de temps\n",
    "    px = px[0,0:10201]\n",
    "    py = py[0,0:10201]\n",
    "    \n",
    "    a = np.where(abs(px - pxcenter) <= 3,1,0) # Filter on lon\n",
    "    b = np.where(abs(py - pycenter) <= 3,1,0) # Filter on lat\n",
    "    c = np.multiply(a,b) \n",
    "    index = np.argwhere(c == 1) # Combinason of both filter\n",
    "    #print(index.shape)\n",
    "    index_tot = []\n",
    "    \n",
    "    for i in range(index_start,index_start+20): # We consider all the particles released for a 10 days perdiod\n",
    "        index_temp = index + 10201*(i)\n",
    "        index_tot.append(index_temp)\n",
    "        \n",
    "    return np.array(index_tot).ravel()"
   ]
  },
  {
   "cell_type": "markdown",
   "metadata": {},
   "source": [
    "# Compute ouputs"
   ]
  },
  {
   "cell_type": "code",
   "execution_count": 9,
   "metadata": {},
   "outputs": [],
   "source": [
    "# Take a date among the 64 period\n",
    "# Return all the 108 independant pdf during this period\n",
    "\n",
    "def compute_outputs(time_end):\n",
    "    \n",
    "    # 36 : number of sub-pathes \n",
    "    # 3 : number of time step considered in a 101 days period\n",
    "    # 80x80 : Spatial resolution of the pdf\n",
    "    \n",
    "    jpdf_list = np.zeros((36,3,1,80,80))\n",
    "    \n",
    "    #List of the 36 sub-patches centers \n",
    "    ic_all_list = np.linspace(1520.5,1610.5,6)\n",
    "    jc_all_list = np.linspace(569.5,659.5,6)\n",
    "    \n",
    "    ########################\n",
    "    # Choose the folder\n",
    "    ########################\n",
    "\n",
    "    folder = '/home2/datawork/tpicard/Pyticles/OUTPUTS/'\n",
    "    \n",
    "    tpas_time_end = int(time_end/101)\n",
    "    tpas = tpas_time_end\n",
    "    correction_tpas = int(tpas/20)*20\n",
    "    date1 = 100*tpas + correction_tpas\n",
    "    date2 = 101*tpas\n",
    "\n",
    "    file = folder + '7YEARS/apero_trap1000m_sed50_2000dx_100nx_{0:06}_56_{1:04}.nc'.format(date2,date1)\n",
    "\n",
    "    #Load data\n",
    "    nc = Dataset(file, 'r')\n",
    "    px = nc.variables['px']\n",
    "    py = nc.variables['py']\n",
    "    pdepth = np.asfortranarray(nc.variables['pdepth'])\n",
    "\n",
    "    dx, dy = 1.979, 1.979 #grid size\n",
    "\n",
    "    print('File for date start ={0} is building...'.format(time_end-101))\n",
    "    \n",
    "    # Create pdf\n",
    "    for dt in range(0,3):\n",
    "        i=0\n",
    "        for ic in ic_all_list:\n",
    "            for jc in jc_all_list:\n",
    "            \n",
    "\n",
    "                #Load data for background\n",
    "                index_start = 20*dt #Choose 0, 20 or 40\n",
    "\n",
    "                x_disp = []\n",
    "                y_disp = []\n",
    "                #temp = []\n",
    "\n",
    "                index = spatial_filter(px,py,ic,jc,index_start) #Filtre spatial haut droite\n",
    "\n",
    "                npart_trap = index.size\n",
    "                count = 0\n",
    "\n",
    "                for ipart in index:\n",
    "                    index_realtime = np.where( pdepth[:,ipart] != 0 )[0] # find the period when particles are released\n",
    "                    if ipart%100000 ==0:\n",
    "                        print('ipart = ' +str(ipart))\n",
    "\n",
    "                    if index_realtime.size != 0:# check if particles are released\n",
    "                        pdepth_tmp = pdepth[index_realtime,ipart]\n",
    "                        index_200m = np.argmax(pdepth_tmp > -200.)\n",
    "\n",
    "\n",
    "                        if index_200m != 0: # particles have reached upper -200 m  \n",
    "                            count = count+1\n",
    "                            index_200m = np.round(index_realtime[index_200m])\n",
    "\n",
    "                            x_disp.append( (px[index_200m, ipart]-px[index_realtime[0], ipart] )*dx ) #to have a centered scheme\n",
    "                            y_disp.append( (py[index_200m, ipart]-py[index_realtime[0], ipart] )*dy )\n",
    "\n",
    "\n",
    "                xband, yband = np.linspace(-400,400,81), np.linspace(-400,400,81)\n",
    "                binbox = (xband[1]-xband[0])*(yband[1]-yband[0])\n",
    "                X, Y = x_disp, y_disp\n",
    "                H,xedges,yedges = np.histogram2d(X,Y,bins=[xband,yband])\n",
    "                N = len(X)\n",
    "                jpdf = 1/(binbox*N)*H\n",
    "                jpdf_list[i,dt,0,:,:] = jpdf\n",
    "                i =i+1\n",
    "                \n",
    "    return(jpdf_list)"
   ]
  },
  {
   "cell_type": "markdown",
   "metadata": {},
   "source": [
    "# Create the nc file"
   ]
  },
  {
   "cell_type": "code",
   "execution_count": 10,
   "metadata": {},
   "outputs": [],
   "source": [
    "#Put all the pdf for a 101 days period inside a nc_file\n",
    "#zdim is created for covolutionnal operation\n",
    "\n",
    "def Create_nc_file(time_start):\n",
    "\n",
    "    #vrt,temp,ssh,u,v,pdf = compute_variable_time_dim(time_start)\n",
    "    time_end = time_start+101\n",
    "    jpdf = compute_outputs(time_end)\n",
    "    \n",
    "    nc_name = 'output_date_{0:06}.nc'.format(time_start)\n",
    "    \n",
    "    #creating the file\n",
    "    nc = nc4.Dataset('/home2/datawork/tpicard/Pyticles/OUTPUTS/PDF/{0}'.format(nc_name),'w')\n",
    "\n",
    "    #Dimensions used\n",
    "    nc.createDimension('pdfsize', 80)\n",
    "    nc.createDimension('nb_patch', 36)\n",
    "    nc.createDimension('zdim', 1)\n",
    "    nc.createDimension('dt', 3)\n",
    "    \n",
    "    #Variables used\n",
    "    nc.createVariable('pdf', 'f4', ('nb_patch','dt','zdim','pdfsize', 'pdfsize'))\n",
    "    nc.variables['pdf'][:] = jpdf\n",
    "    \n",
    "    nc.close()\n",
    "    \n",
    "    print('File for date ={0} is done'.format(time_start))"
   ]
  },
  {
   "cell_type": "markdown",
   "metadata": {},
   "source": [
    "# Create all the pdf inside ncfile"
   ]
  },
  {
   "cell_type": "code",
   "execution_count": 13,
   "metadata": {},
   "outputs": [
    {
     "name": "stdout",
     "output_type": "stream",
     "text": [
      "File for date start =303 is building...\n",
      "ipart = 0\n",
      "ipart = 400000\n",
      "File for date =303 is done\n"
     ]
    }
   ],
   "source": [
    "# Loop for all the period (from 0 to 64)\n",
    "\n",
    "for dt in range(3,4,1):\n",
    "    time_start = dt*101\n",
    "    Create_nc_file(time_start)\n"
   ]
  },
  {
   "cell_type": "code",
   "execution_count": 12,
   "metadata": {},
   "outputs": [
    {
     "ename": "NameError",
     "evalue": "name 'nc' is not defined",
     "output_type": "error",
     "traceback": [
      "\u001b[0;31m---------------------------------------------------------------------------\u001b[0m",
      "\u001b[0;31mNameError\u001b[0m                                 Traceback (most recent call last)",
      "\u001b[0;32m<ipython-input-12-a614cc7f4cdd>\u001b[0m in \u001b[0;36m<module>\u001b[0;34m\u001b[0m\n\u001b[0;32m----> 1\u001b[0;31m \u001b[0mnc\u001b[0m\u001b[0;34m.\u001b[0m\u001b[0mclose\u001b[0m\u001b[0;34m(\u001b[0m\u001b[0;34m)\u001b[0m\u001b[0;34m\u001b[0m\u001b[0;34m\u001b[0m\u001b[0m\n\u001b[0m",
      "\u001b[0;31mNameError\u001b[0m: name 'nc' is not defined"
     ]
    }
   ],
   "source": [
    "nc.close()"
   ]
  },
  {
   "cell_type": "markdown",
   "metadata": {},
   "source": [
    "# Test pdf created"
   ]
  },
  {
   "cell_type": "code",
   "execution_count": null,
   "metadata": {},
   "outputs": [],
   "source": [
    "ncfile = 'output_date_000202.nc'\n",
    "nc = nc4.Dataset('/home2/datawork/tpicard/Pyticles/OUTPUTS/PDF/{0}'.format(ncfile),'r')\n",
    "\n",
    "pdf = np.asfortranarray(nc.variables['pdf'])\n",
    "nc.close()\n"
   ]
  },
  {
   "cell_type": "code",
   "execution_count": 61,
   "metadata": {},
   "outputs": [
    {
     "data": {
      "text/plain": [
       "(36, 3, 1, 80, 80)"
      ]
     },
     "execution_count": 61,
     "metadata": {},
     "output_type": "execute_result"
    }
   ],
   "source": [
    "pdf.shape"
   ]
  },
  {
   "cell_type": "code",
   "execution_count": 67,
   "metadata": {},
   "outputs": [
    {
     "name": "stderr",
     "output_type": "stream",
     "text": [
      "<ipython-input-67-211595b19987>:9: UserWarning: Log scale: values of z <= 0 have been masked\n",
      "  ctf = plt.contourf(0.5*(xband[:-1]+xband[1:]), 0.5*(yband[:-1]+yband[1:]), pdf[35,2,0,:,:].T,  levels, norm=norm, cmap=cmap, extend='both')\n"
     ]
    },
    {
     "data": {
      "text/plain": [
       "<matplotlib.lines.Line2D at 0x2aaadc12a250>"
      ]
     },
     "execution_count": 67,
     "metadata": {},
     "output_type": "execute_result"
    },
    {
     "data": {
      "image/png": "[encoded data removed]",
      "text/plain": [
       "<Figure size 432x288 with 1 Axes>"
      ]
     },
     "metadata": {
      "needs_background": "light"
     },
     "output_type": "display_data"
    }
   ],
   "source": [
    "xband, yband = np.linspace(-400,400,81), np.linspace(-400,400,81)\n",
    "\n",
    "plt.figure()\n",
    "cmap = 'Spectral_r'\n",
    "levels=np.logspace(-5, -4, 10)\n",
    "norm= colors.LogNorm(vmin=1e-5, vmax=1e-4)\n",
    "ctf = plt.contourf(0.5*(xband[:-1]+xband[1:]), 0.5*(yband[:-1]+yband[1:]), pdf[35,2,0,:,:].T,  levels, norm=norm, cmap=cmap, extend='both')\n",
    "#cb.set_ticks([1e-6, 1e-5, 1e-4])\n",
    "#cb.ax.tick_params(labelsize='large')\n",
    "plt.xlim([-400,400])\n",
    "plt.ylim([-400,400])\n",
    "\n",
    "plt.axvline(x=0,color='black',linestyle='--',linewidth=0.5)\n",
    "plt.axhline(y=0,color='black',linestyle='--',linewidth=0.5)"
   ]
  }
 ],
 "metadata": {
  "kernelspec": {
   "display_name": "croco",
   "language": "python",
   "name": "croco"
  },
  "language_info": {
   "codemirror_mode": {
    "name": "ipython",
    "version": 3
   },
   "file_extension": ".py",
   "mimetype": "text/x-python",
   "name": "python",
   "nbconvert_exporter": "python",
   "pygments_lexer": "ipython3",
   "version": "3.8.8"
  }
 },
 "nbformat": 4,
 "nbformat_minor": 4
}
